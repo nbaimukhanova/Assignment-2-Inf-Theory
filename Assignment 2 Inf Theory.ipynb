{
 "cells": [
  {
   "cell_type": "markdown",
   "metadata": {},
   "source": [
    "# Assignment 2\n",
    "\n",
    "Nuraina Baimukhanova & Zukhra Mazhitova\n"
   ]
  },
  {
   "cell_type": "markdown",
   "metadata": {},
   "source": [
    "## Case sensitive: distinct"
   ]
  },
  {
   "cell_type": "markdown",
   "metadata": {},
   "source": [
    "- Input file should be simple txt formatted file. First of all, we open file and read content of file in order to save it in variable called \"input_file\"."
   ]
  },
  {
   "cell_type": "code",
   "execution_count": 1,
   "metadata": {},
   "outputs": [],
   "source": [
    "with open(\"file.txt\", \"r\") as f:\n",
    "    input_file = f.read()"
   ]
  },
  {
   "cell_type": "markdown",
   "metadata": {},
   "source": [
    "- Secondly, we save probabilities of each unique character with appropriate character in array called \"output\". To calculate probability we divide number of occurence of symbol by length of inputted text. We repeat all actions in loop for each character in string."
   ]
  },
  {
   "cell_type": "code",
   "execution_count": 2,
   "metadata": {},
   "outputs": [],
   "source": [
    "output1 = {character : (input_file.count(character))/len(input_file) for character in set(input_file)}"
   ]
  },
  {
   "cell_type": "markdown",
   "metadata": {},
   "source": [
    "- Finally, we print results."
   ]
  },
  {
   "cell_type": "code",
   "execution_count": 3,
   "metadata": {},
   "outputs": [
    {
     "name": "stdout",
     "output_type": "stream",
     "text": [
      "Probability of each unique character in string Nuraina1:\n",
      " {'N': 0.125, 'a': 0.25, '1': 0.125, 'n': 0.125, 'r': 0.125, 'i': 0.125, 'u': 0.125}\n"
     ]
    }
   ],
   "source": [
    "print (\"Probability of each unique character in string \"+input_file+\":\\n \"+ str(output1))"
   ]
  }
 ],
 "metadata": {
  "kernelspec": {
   "display_name": "Python 3",
   "language": "python",
   "name": "python3"
  },
  "language_info": {
   "codemirror_mode": {
    "name": "ipython",
    "version": 3
   },
   "file_extension": ".py",
   "mimetype": "text/x-python",
   "name": "python",
   "nbconvert_exporter": "python",
   "pygments_lexer": "ipython3",
   "version": "3.8.5"
  }
 },
 "nbformat": 4,
 "nbformat_minor": 4
}
